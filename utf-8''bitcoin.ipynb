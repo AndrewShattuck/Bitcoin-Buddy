{
  "cells": [
    {
      "metadata": {
        "trusted": true
      },
      "cell_type": "code",
      "source": "#Import libraries\nimport requests\nfrom datetime import datetime",
      "execution_count": 1,
      "outputs": []
    },
    {
      "metadata": {
        "trusted": true
      },
      "cell_type": "code",
      "source": "#Get the URL ticker to get the .json files of the crypto currencies\nTICKER_API_URL = 'https://api.coinmarketcap.com/v1/ticker/'",
      "execution_count": 2,
      "outputs": []
    },
    {
      "metadata": {
        "trusted": true
      },
      "cell_type": "code",
      "source": "#Function to get the latest crypto currency price of a specific 'crypto' e.g bitcoin, litecoin, etc.\n# crypto = {bitcoin, litecoin, ethereum, ...}\ndef get_latest_crypto_price( crypto ):\n    response = requests.get(TICKER_API_URL+crypto)\n    response_json = response.json()\n    # Convert the price to a floating point number\n    return float(response_json[0]['price_usd'])",
      "execution_count": 3,
      "outputs": []
    },
    {
      "metadata": {
        "trusted": true
      },
      "cell_type": "code",
      "source": "#Test the function \nget_latest_crypto_price( 'bitcoin')",
      "execution_count": 4,
      "outputs": [
        {
          "output_type": "execute_result",
          "execution_count": 4,
          "data": {
            "text/plain": "7524.19225547"
          },
          "metadata": {}
        }
      ]
    },
    {
      "metadata": {
        "trusted": true
      },
      "cell_type": "code",
      "source": "BITCOIN_PRICE_THRESHOLD = 76000  # A threshold set to whatever you like",
      "execution_count": 6,
      "outputs": []
    },
    {
      "metadata": {
        "trusted": true
      },
      "cell_type": "code",
      "source": "def main():\n  \n  #Set last_price to -1 to indicate the last price hasn't been recorded yet\n  last_price = -1\n  \n  while True:\n    \n    crypto = 'bitcoin'\n    price = get_latest_crypto_price(crypto)\n   \n    #You can use the following variables to get specific datetime\n    #year = datetime.now().year\n    #month = datetime.now().month\n    #day = datetime.now().day\n    #hour = datetime.now().hour\n    #minute = datetime.now().minute\n    #second = datetime.now().second\n    #microsecond = datetime.now().microsecond\n    \n    now = datetime.now()\n    now.strftime(\"%Y-%m-%d %H:%M\")#Returns format (YYYY-mm-DDTHH:MM:SS.MS)\n\n    \n    #Print the price of bitcoin only if the current price is different from the last price\n    if price != last_price:\n      print(now.isoformat() , ' Bitcoin price = ',price)\n      last_price = price #update last_price to be the current price",
      "execution_count": 7,
      "outputs": []
    },
    {
      "metadata": {
        "trusted": true
      },
      "cell_type": "code",
      "source": "main()",
      "execution_count": null,
      "outputs": []
    }
  ],
  "metadata": {
    "kernelspec": {
      "name": "python3",
      "display_name": "Python 3",
      "language": "python"
    },
    "language_info": {
      "mimetype": "text/x-python",
      "nbconvert_exporter": "python",
      "name": "python",
      "pygments_lexer": "ipython3",
      "version": "3.5.4",
      "file_extension": ".py",
      "codemirror_mode": {
        "version": 3,
        "name": "ipython"
      }
    }
  },
  "nbformat": 4,
  "nbformat_minor": 2
}